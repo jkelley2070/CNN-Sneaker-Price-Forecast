{
 "cells": [
  {
   "cell_type": "code",
   "execution_count": 1,
   "id": "2c83c921",
   "metadata": {},
   "outputs": [],
   "source": [
    "import pandas as pd\n",
    "\n",
    "df = pd.read_csv(\"CNN_Predicted_Probabilies.csv\")"
   ]
  },
  {
   "cell_type": "markdown",
   "id": "78887a5a",
   "metadata": {},
   "source": [
    "First we will look at logistic regression for our predictions"
   ]
  },
  {
   "cell_type": "code",
   "execution_count": 2,
   "id": "4ff01862",
   "metadata": {},
   "outputs": [
    {
     "name": "stdout",
     "output_type": "stream",
     "text": [
      "CNN Accuracy: 0.34518828451882844\n",
      "Logistic Regression Meta Accuracy: 0.36610878661087864\n"
     ]
    }
   ],
   "source": [
    "import pandas as pd\n",
    "from sklearn.model_selection import train_test_split\n",
    "from sklearn.linear_model import LogisticRegression\n",
    "from sklearn.metrics import accuracy_score, classification_report\n",
    "\n",
    "\n",
    "X = df[['Probability 0-100', 'Probability 100-200', 'Probability 200-300', 'Probability 300-400', 'Probability 400-500', 'Probability 500-600', 'Probability 600-700', 'Probability 700-800', 'Probability 800-900', 'Probability 900+']]\n",
    "y = df[['0-100', '100-200', '200-300', '300-400', '400-500', '500-600', '600-700', '700-800', '800-900', '900+']]\n",
    "\n",
    "names = ['0-100', '100-200', '200-300', '300-400', '400-500', '500-600', '600-700', '700-800', '800-900', '900+']\n",
    "X.columns = names\n",
    "\n",
    "X_train, X_test, y_train, y_test = train_test_split(X, y, test_size=0.2, random_state=42)\n",
    "\n",
    "lr_model = LogisticRegression()\n",
    "lr_model.fit(X_train, y_train.idxmax(axis=1))\n",
    "\n",
    "predicted_labels = lr_model.predict(X_test)\n",
    "\n",
    "cnn_accuracy1 = accuracy_score(y_test.idxmax(axis=1), X_test.idxmax(axis=1))\n",
    "print(\"CNN Accuracy:\", cnn_accuracy1)\n",
    "lr_accuracy = accuracy_score(y_test.idxmax(axis=1), predicted_labels)\n",
    "print(\"Logistic Regression Meta Accuracy:\", lr_accuracy)\n",
    "\n",
    "df['Predicted_Category'] = lr_model.predict(X)\n",
    "df['Actual_Category'] = y.idxmax(axis=1)"
   ]
  },
  {
   "cell_type": "code",
   "execution_count": 3,
   "id": "d8c1e838",
   "metadata": {},
   "outputs": [
    {
     "name": "stdout",
     "output_type": "stream",
     "text": [
      "CNN Accuracy: 0.18200836820083682\n",
      "Logistic Regression Meta Accuracy: 0.19874476987447698\n"
     ]
    }
   ],
   "source": [
    "X = df[['Probability 17-93', 'Probability 93-116', 'Probability 116-143', 'Probability 143-177', 'Probability 177-217', 'Probability 217-272', 'Probability 272-340', 'Probability 340-457', 'Probability 457-766', 'Probability 766+']]\n",
    "y = df[['17-93', '93-116', '116-143', '143-177', '177-217', '217-272', '272-340', '340-457', '457-766', '766+']]\n",
    "\n",
    "names = ['17-93', '93-116', '116-143', '143-177', '177-217', '217-272', '272-340', '340-457', '457-766', '766+']\n",
    "X.columns = names\n",
    "X_train, X_test, y_train, y_test = train_test_split(X, y, test_size=0.2, random_state=42)\n",
    "\n",
    "lr_model = LogisticRegression()\n",
    "lr_model.fit(X_train, y_train.idxmax(axis=1))\n",
    "predicted_labels = lr_model.predict(X_test)\n",
    "\n",
    "cnn_accuracy2 = accuracy_score(y_test.idxmax(axis=1), X_test.idxmax(axis=1))\n",
    "print(\"CNN Accuracy:\", cnn_accuracy2)\n",
    "lr_accuracy = accuracy_score(y_test.idxmax(axis=1), predicted_labels)\n",
    "print(\"Logistic Regression Meta Accuracy:\", lr_accuracy)\n",
    "\n",
    "df['Predicted_Category'] = lr_model.predict(X)\n",
    "df['Actual_Category'] = y.idxmax(axis=1)"
   ]
  },
  {
   "cell_type": "code",
   "execution_count": 4,
   "id": "06836dea",
   "metadata": {},
   "outputs": [
    {
     "name": "stdout",
     "output_type": "stream",
     "text": [
      "CNN Accuracy: 0.9811715481171548\n",
      "Logistic Regression Meta Accuracy: 0.9811715481171548\n"
     ]
    }
   ],
   "source": [
    "X = df[['Probability ADIDAS', 'Probability AIR JORDAN', 'Probability BAPESTA', 'Probability NEW BALANCE', 'Probability NIKE', 'Probability YEEZY']]\n",
    "y = df[['ADIDAS', 'AIR JORDAN', 'BAPESTA', 'NEW BALANCE', 'NIKE', 'YEEZY']]\n",
    "names = ['ADIDAS', 'AIR JORDAN', 'BAPESTA', 'NEW BALANCE', 'NIKE', 'YEEZY']\n",
    "X.columns = names\n",
    "X_train, X_test, y_train, y_test = train_test_split(X, y, test_size=0.2, random_state=42)\n",
    "\n",
    "lr_model = LogisticRegression()\n",
    "lr_model.fit(X_train, y_train.idxmax(axis=1))\n",
    "\n",
    "predicted_labels = lr_model.predict(X_test)\n",
    "\n",
    "cnn_accuracy3 = accuracy_score(y_test.idxmax(axis=1), X_test.idxmax(axis=1))\n",
    "print(\"CNN Accuracy:\", cnn_accuracy3)\n",
    "lr_accuracy = accuracy_score(y_test.idxmax(axis=1), predicted_labels)\n",
    "print(\"Logistic Regression Meta Accuracy:\", lr_accuracy)\n",
    "\n",
    "df['Predicted_Category'] = lr_model.predict(X)\n",
    "df['Actual_Category'] = y.idxmax(axis=1)"
   ]
  },
  {
   "cell_type": "code",
   "execution_count": 5,
   "id": "83c932fa",
   "metadata": {},
   "outputs": [
    {
     "name": "stdout",
     "output_type": "stream",
     "text": [
      "CNN Accuracy: 0.9769874476987448\n",
      "Logistic Regression Meta Accuracy: 0.9769874476987448\n"
     ]
    }
   ],
   "source": [
    "prob_model_list = ['Probability NB 2002R', 'Probability AIR MAX 1', 'Probability NIKE AIR MAX 90', 'Probability AJ 1','Probability AJ 11', 'Probability AJ 12', 'Probability AJ 2', \n",
    "'Probability AJ 3', 'Probability AJ 4', 'Probability AJ 5', 'Probability AJ 6', 'Probability BAPESTA', 'Probability NIKE DUNK LOW','Probability NIKE DUNK HIGH', 'Probability NB550',\n",
    "'Probability NB990', 'Probability ADIDAS STAN SMITH', 'Probability YZY 700', 'Probability YZY 350', 'Probability YZY RNR', 'Probability NIKE AF1', \n",
    "'ADIDAS FORUM', 'ADIDAS SAMBA', 'YZY SLIDES'\n",
    "]\n",
    "df\n",
    "model_list = ['NB 2002R', 'AIR MAX 1', 'NIKE AIR MAX 90', 'AJ 1','AJ 11', 'AJ 12', 'AJ 2', \n",
    "'AJ 3', 'AJ 4', 'AJ 5', 'AJ 6', 'BAPESTA', 'NIKE DUNK LOW','NIKE DUNK HIGH', 'NB550',\n",
    "'NB990', 'ADIDAS STAN SMITH', 'YZY 700', 'YZY 350', 'YZY RNR', 'NIKE AF1', \n",
    "'ADIDAS FORUM', 'ADIDAS SAMBA', 'YZY SLIDES'\n",
    "]\n",
    "X = df[prob_model_list]\n",
    "y = df[model_list]\n",
    "X.columns = model_list\n",
    "X_train, X_test, y_train, y_test = train_test_split(X, y, test_size=0.2, random_state=42)\n",
    "\n",
    "lr_model = LogisticRegression()\n",
    "lr_model.fit(X_train, y_train.idxmax(axis=1))\n",
    "\n",
    "predicted_labels = lr_model.predict(X_test)\n",
    "\n",
    "cnn_accuracy4 = accuracy_score(y_test.idxmax(axis=1), X_test.idxmax(axis=1))\n",
    "print(\"CNN Accuracy:\", cnn_accuracy4)\n",
    "lr_accuracy = accuracy_score(y_test.idxmax(axis=1), predicted_labels)\n",
    "print(\"Logistic Regression Meta Accuracy:\", lr_accuracy)\n",
    "\n",
    "df['Predicted_Category'] = lr_model.predict(X)\n",
    "df['Actual_Category'] = y.idxmax(axis=1)"
   ]
  },
  {
   "cell_type": "markdown",
   "id": "7c947404",
   "metadata": {},
   "source": [
    "Now onto the random forest models"
   ]
  },
  {
   "cell_type": "code",
   "execution_count": 6,
   "id": "f96fc52a",
   "metadata": {},
   "outputs": [
    {
     "name": "stdout",
     "output_type": "stream",
     "text": [
      "CNN Accuracy: 0.34518828451882844\n",
      "Random Forest Meta Accuracy: 0.3493723849372385\n"
     ]
    }
   ],
   "source": [
    "from sklearn.ensemble import RandomForestClassifier\n",
    "\n",
    "X = df[['Probability 0-100', 'Probability 100-200', 'Probability 200-300', 'Probability 300-400', 'Probability 400-500', 'Probability 500-600', 'Probability 600-700', 'Probability 700-800', 'Probability 800-900', 'Probability 900+']]\n",
    "y = df[['0-100', '100-200', '200-300', '300-400', '400-500', '500-600', '600-700', '700-800', '800-900', '900+']]\n",
    "names = ['0-100', '100-200', '200-300', '300-400', '400-500', '500-600', '600-700', '700-800', '800-900', '900+']\n",
    "\n",
    "X_train, X_test, y_train, y_test = train_test_split(X, y, test_size=0.2, random_state=42)\n",
    "rf_model = RandomForestClassifier()\n",
    "rf_model.fit(X_train, y_train.idxmax(axis=1))\n",
    "predicted_labels = rf_model.predict(X_test)\n",
    "X_test.columns = names\n",
    "cnn_accuracy1 = accuracy_score(y_test.idxmax(axis=1), X_test.idxmax(axis=1))\n",
    "print(\"CNN Accuracy:\", cnn_accuracy1)\n",
    "rf_accuracy = accuracy_score(y_test.idxmax(axis=1), predicted_labels)\n",
    "print(\"Random Forest Meta Accuracy:\", rf_accuracy)\n",
    "\n",
    "df['Predicted_Category_RF'] = rf_model.predict(X)\n",
    "df['Actual_Category_RF'] = y.idxmax(axis=1)"
   ]
  },
  {
   "cell_type": "code",
   "execution_count": 7,
   "id": "52a08e0e",
   "metadata": {},
   "outputs": [
    {
     "name": "stdout",
     "output_type": "stream",
     "text": [
      "CNN Accuracy: 0.18200836820083682\n",
      "Random Forest Meta Accuracy: 0.19665271966527198\n"
     ]
    }
   ],
   "source": [
    "X = df[['Probability 17-93', 'Probability 93-116', 'Probability 116-143', 'Probability 143-177', 'Probability 177-217', 'Probability 217-272', 'Probability 272-340', 'Probability 340-457', 'Probability 457-766', 'Probability 766+']]\n",
    "y = df[['17-93', '93-116', '116-143', '143-177', '177-217', '217-272', '272-340', '340-457', '457-766', '766+']]\n",
    "\n",
    "names = ['17-93', '93-116', '116-143', '143-177', '177-217', '217-272', '272-340', '340-457', '457-766', '766+']\n",
    "\n",
    "X_train, X_test, y_train, y_test = train_test_split(X, y, test_size=0.2, random_state=42)\n",
    "\n",
    "rf_model = RandomForestClassifier()\n",
    "rf_model.fit(X_train, y_train.idxmax(axis=1))\n",
    "\n",
    "predicted_labels = rf_model.predict(X_test)\n",
    "\n",
    "X_test.columns = names\n",
    "\n",
    "cnn_accuracy2 = accuracy_score(y_test.idxmax(axis=1), X_test.idxmax(axis=1))\n",
    "print(\"CNN Accuracy:\", cnn_accuracy2)\n",
    "rf_accuracy = accuracy_score(y_test.idxmax(axis=1), predicted_labels)\n",
    "print(\"Random Forest Meta Accuracy:\", rf_accuracy)\n",
    "\n",
    "df['Predicted_Category_RF'] = rf_model.predict(X)\n",
    "df['Actual_Category_RF'] = y.idxmax(axis=1)\n",
    "\n"
   ]
  },
  {
   "cell_type": "code",
   "execution_count": 8,
   "id": "2e4c711a",
   "metadata": {},
   "outputs": [
    {
     "name": "stdout",
     "output_type": "stream",
     "text": [
      "CNN Accuracy: 0.9811715481171548\n",
      "Random Forest Meta Accuracy: 0.9811715481171548\n"
     ]
    }
   ],
   "source": [
    "X = df[['Probability ADIDAS', 'Probability AIR JORDAN', 'Probability BAPESTA', 'Probability NEW BALANCE', 'Probability NIKE', 'Probability YEEZY']]\n",
    "y = df[['ADIDAS', 'AIR JORDAN', 'BAPESTA', 'NEW BALANCE', 'NIKE', 'YEEZY']]\n",
    "names = ['ADIDAS', 'AIR JORDAN', 'BAPESTA', 'NEW BALANCE', 'NIKE', 'YEEZY']\n",
    "X_train, X_test, y_train, y_test = train_test_split(X, y, test_size=0.2, random_state=42)\n",
    "\n",
    "rf_model = RandomForestClassifier()\n",
    "rf_model.fit(X_train, y_train.idxmax(axis=1))\n",
    "\n",
    "predicted_labels = rf_model.predict(X_test)\n",
    "\n",
    "X_test.columns = names\n",
    "cnn_accuracy3 = accuracy_score(y_test.idxmax(axis=1), X_test.idxmax(axis=1))\n",
    "print(\"CNN Accuracy:\", cnn_accuracy3)\n",
    "rf_accuracy = accuracy_score(y_test.idxmax(axis=1), predicted_labels)\n",
    "print(\"Random Forest Meta Accuracy:\", rf_accuracy)\n",
    "\n",
    "df['Predicted_Category_RF'] = rf_model.predict(X)\n",
    "df['Actual_Category_RF'] = y.idxmax(axis=1)\n"
   ]
  },
  {
   "cell_type": "code",
   "execution_count": 9,
   "id": "f2a0e458",
   "metadata": {},
   "outputs": [
    {
     "name": "stdout",
     "output_type": "stream",
     "text": [
      "CNN Accuracy: 0.9769874476987448\n",
      "Random Forest Meta Accuracy: 0.9728033472803347\n"
     ]
    }
   ],
   "source": [
    "prob_model_list = ['Probability NB 2002R', 'Probability AIR MAX 1', 'Probability NIKE AIR MAX 90', 'Probability AJ 1','Probability AJ 11', 'Probability AJ 12', 'Probability AJ 2', \n",
    "'Probability AJ 3', 'Probability AJ 4', 'Probability AJ 5', 'Probability AJ 6', 'Probability BAPESTA', 'Probability NIKE DUNK LOW','Probability NIKE DUNK HIGH', 'Probability NB550',\n",
    "'Probability NB990', 'Probability ADIDAS STAN SMITH', 'Probability YZY 700', 'Probability YZY 350', 'Probability YZY RNR', 'Probability NIKE AF1', \n",
    "'ADIDAS FORUM', 'ADIDAS SAMBA', 'YZY SLIDES'\n",
    "]\n",
    "df\n",
    "model_list = ['NB 2002R', 'AIR MAX 1', 'NIKE AIR MAX 90', 'AJ 1','AJ 11', 'AJ 12', 'AJ 2', \n",
    "'AJ 3', 'AJ 4', 'AJ 5', 'AJ 6', 'BAPESTA', 'NIKE DUNK LOW','NIKE DUNK HIGH', 'NB550',\n",
    "'NB990', 'ADIDAS STAN SMITH', 'YZY 700', 'YZY 350', 'YZY RNR', 'NIKE AF1', \n",
    "'ADIDAS FORUM', 'ADIDAS SAMBA', 'YZY SLIDES'\n",
    "]\n",
    "X = df[prob_model_list]\n",
    "y = df[model_list]\n",
    "\n",
    "X_train, X_test, y_train, y_test = train_test_split(X, y, test_size=0.2, random_state=42)\n",
    "\n",
    "rf_model = RandomForestClassifier()\n",
    "rf_model.fit(X_train, y_train.idxmax(axis=1))\n",
    "\n",
    "predicted_labels = rf_model.predict(X_test)\n",
    "X_test.columns = model_list\n",
    "cnn_accuracy4 = accuracy_score(y_test.idxmax(axis=1), X_test.idxmax(axis=1))\n",
    "print(\"CNN Accuracy:\", cnn_accuracy4)\n",
    "rf_accuracy = accuracy_score(y_test.idxmax(axis=1), predicted_labels)\n",
    "print(\"Random Forest Meta Accuracy:\", rf_accuracy)\n",
    "cr1 = classification_report(y_test.idxmax(axis=1), X_test.idxmax(axis=1))\n",
    "cr2 = classification_report(y_test.idxmax(axis=1), predicted_labels)\n",
    "df['Predicted_Category_RF'] = rf_model.predict(X)\n",
    "df['Actual_Category_RF'] = y.idxmax(axis=1)\n"
   ]
  },
  {
   "cell_type": "code",
   "execution_count": 10,
   "id": "0fa15348",
   "metadata": {},
   "outputs": [
    {
     "name": "stdout",
     "output_type": "stream",
     "text": [
      "                   precision    recall  f1-score   support\n",
      "\n",
      "     ADIDAS FORUM       1.00      1.00      1.00        18\n",
      "     ADIDAS SAMBA       1.00      1.00      1.00         5\n",
      "ADIDAS STAN SMITH       1.00      1.00      1.00        33\n",
      "        AIR MAX 1       0.89      0.94      0.92        36\n",
      "             AJ 1       0.98      1.00      0.99        50\n",
      "            AJ 11       1.00      1.00      1.00         7\n",
      "            AJ 12       1.00      1.00      1.00         7\n",
      "             AJ 2       1.00      0.75      0.86         4\n",
      "             AJ 3       0.91      1.00      0.95        10\n",
      "             AJ 4       1.00      1.00      1.00        17\n",
      "             AJ 5       1.00      1.00      1.00         6\n",
      "             AJ 6       1.00      1.00      1.00         5\n",
      "          BAPESTA       1.00      0.92      0.96        12\n",
      "         NB 2002R       1.00      1.00      1.00         6\n",
      "            NB550       1.00      1.00      1.00         5\n",
      "            NB990       0.94      0.94      0.94        16\n",
      "         NIKE AF1       0.96      0.97      0.97       110\n",
      "  NIKE AIR MAX 90       1.00      0.97      0.99        39\n",
      "   NIKE DUNK HIGH       1.00      0.95      0.97        37\n",
      "    NIKE DUNK LOW       1.00      1.00      1.00        48\n",
      "          YZY 350       1.00      1.00      1.00         3\n",
      "          YZY 700       1.00      1.00      1.00         3\n",
      "       YZY SLIDES       1.00      1.00      1.00         1\n",
      "\n",
      "         accuracy                           0.98       478\n",
      "        macro avg       0.99      0.98      0.98       478\n",
      "     weighted avg       0.98      0.98      0.98       478\n",
      "\n"
     ]
    }
   ],
   "source": [
    "print(cr1)"
   ]
  },
  {
   "cell_type": "code",
   "execution_count": 11,
   "id": "81df1341",
   "metadata": {},
   "outputs": [
    {
     "name": "stdout",
     "output_type": "stream",
     "text": [
      "                   precision    recall  f1-score   support\n",
      "\n",
      "     ADIDAS FORUM       1.00      1.00      1.00        18\n",
      "     ADIDAS SAMBA       1.00      1.00      1.00         5\n",
      "ADIDAS STAN SMITH       1.00      1.00      1.00        33\n",
      "        AIR MAX 1       0.87      0.94      0.91        36\n",
      "             AJ 1       0.96      0.98      0.97        50\n",
      "            AJ 11       1.00      1.00      1.00         7\n",
      "            AJ 12       1.00      1.00      1.00         7\n",
      "             AJ 2       0.67      0.50      0.57         4\n",
      "             AJ 3       0.91      1.00      0.95        10\n",
      "             AJ 4       1.00      1.00      1.00        17\n",
      "             AJ 5       1.00      1.00      1.00         6\n",
      "             AJ 6       1.00      1.00      1.00         5\n",
      "          BAPESTA       1.00      0.92      0.96        12\n",
      "         NB 2002R       1.00      1.00      1.00         6\n",
      "            NB550       1.00      1.00      1.00         5\n",
      "            NB990       1.00      0.94      0.97        16\n",
      "         NIKE AF1       0.96      0.97      0.97       110\n",
      "  NIKE AIR MAX 90       1.00      0.97      0.99        39\n",
      "   NIKE DUNK HIGH       1.00      0.95      0.97        37\n",
      "    NIKE DUNK LOW       1.00      1.00      1.00        48\n",
      "          YZY 350       1.00      1.00      1.00         3\n",
      "          YZY 700       1.00      1.00      1.00         3\n",
      "       YZY SLIDES       1.00      1.00      1.00         1\n",
      "\n",
      "         accuracy                           0.97       478\n",
      "        macro avg       0.97      0.96      0.97       478\n",
      "     weighted avg       0.97      0.97      0.97       478\n",
      "\n"
     ]
    }
   ],
   "source": [
    "print(cr2)"
   ]
  }
 ],
 "metadata": {
  "kernelspec": {
   "display_name": "Python 3 (ipykernel)",
   "language": "python",
   "name": "python3"
  },
  "language_info": {
   "codemirror_mode": {
    "name": "ipython",
    "version": 3
   },
   "file_extension": ".py",
   "mimetype": "text/x-python",
   "name": "python",
   "nbconvert_exporter": "python",
   "pygments_lexer": "ipython3",
   "version": "3.11.5"
  }
 },
 "nbformat": 4,
 "nbformat_minor": 5
}
